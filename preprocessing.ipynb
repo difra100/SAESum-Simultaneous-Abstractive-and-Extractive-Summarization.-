{
 "cells": [
  {
   "attachments": {},
   "cell_type": "markdown",
   "metadata": {},
   "source": [
    "## **PUBMED Dataset Preprocessing**"
   ]
  },
  {
   "attachments": {},
   "cell_type": "markdown",
   "metadata": {},
   "source": [
    "Imports"
   ]
  },
  {
   "cell_type": "code",
   "execution_count": 7,
   "metadata": {},
   "outputs": [
    {
     "name": "stderr",
     "output_type": "stream",
     "text": [
      "/home/peppe/anaconda3/envs/my_env/lib/python3.10/site-packages/tqdm/auto.py:22: TqdmWarning: IProgress not found. Please update jupyter and ipywidgets. See https://ipywidgets.readthedocs.io/en/stable/user_install.html\n",
      "  from .autonotebook import tqdm as notebook_tqdm\n",
      "Failed to detect the name of this notebook, you can set it manually with the WANDB_NOTEBOOK_NAME environment variable to enable code saving.\n",
      "\u001b[34m\u001b[1mwandb\u001b[0m: Currently logged in as: \u001b[33mdifra00\u001b[0m (\u001b[33mdeepl_wizards\u001b[0m). Use \u001b[1m`wandb login --relogin`\u001b[0m to force relogin\n"
     ]
    },
    {
     "data": {
      "text/html": [
       "wandb version 0.15.7 is available!  To upgrade, please run:\n",
       " $ pip install wandb --upgrade"
      ],
      "text/plain": [
       "<IPython.core.display.HTML object>"
      ]
     },
     "metadata": {},
     "output_type": "display_data"
    },
    {
     "data": {
      "text/html": [
       "Tracking run with wandb version 0.15.4"
      ],
      "text/plain": [
       "<IPython.core.display.HTML object>"
      ]
     },
     "metadata": {},
     "output_type": "display_data"
    },
    {
     "data": {
      "text/html": [
       "Run data is saved locally in <code>/home/peppe/Desktop/Università/Projects/SAESum-Simultaneous_Abstractive_and_Extractive_Summarization/wandb/run-20230727_225010-tf2mwjpn</code>"
      ],
      "text/plain": [
       "<IPython.core.display.HTML object>"
      ]
     },
     "metadata": {},
     "output_type": "display_data"
    },
    {
     "data": {
      "text/html": [
       "Syncing run <strong><a href='https://wandb.ai/deepl_wizards/SAESUM-Abstractive_Extractive_Summarization/runs/tf2mwjpn' target=\"_blank\">crisp-field-178</a></strong> to <a href='https://wandb.ai/deepl_wizards/SAESUM-Abstractive_Extractive_Summarization' target=\"_blank\">Weights & Biases</a> (<a href='https://wandb.me/run' target=\"_blank\">docs</a>)<br/>"
      ],
      "text/plain": [
       "<IPython.core.display.HTML object>"
      ]
     },
     "metadata": {},
     "output_type": "display_data"
    },
    {
     "data": {
      "text/html": [
       " View project at <a href='https://wandb.ai/deepl_wizards/SAESUM-Abstractive_Extractive_Summarization' target=\"_blank\">https://wandb.ai/deepl_wizards/SAESUM-Abstractive_Extractive_Summarization</a>"
      ],
      "text/plain": [
       "<IPython.core.display.HTML object>"
      ]
     },
     "metadata": {},
     "output_type": "display_data"
    },
    {
     "data": {
      "text/html": [
       " View run at <a href='https://wandb.ai/deepl_wizards/SAESUM-Abstractive_Extractive_Summarization/runs/tf2mwjpn' target=\"_blank\">https://wandb.ai/deepl_wizards/SAESUM-Abstractive_Extractive_Summarization/runs/tf2mwjpn</a>"
      ],
      "text/plain": [
       "<IPython.core.display.HTML object>"
      ]
     },
     "metadata": {},
     "output_type": "display_data"
    },
    {
     "name": "stdout",
     "output_type": "stream",
     "text": [
      "4.30.2\n"
     ]
    }
   ],
   "source": [
    "from src.training_utils import *\n",
    "import transformers\n",
    "from datasets import load_dataset\n",
    "from transformers import AutoTokenizer, AutoModelForSeq2SeqLM\n",
    "\n",
    "print(transformers.__version__)"
   ]
  },
  {
   "attachments": {},
   "cell_type": "markdown",
   "metadata": {},
   "source": [
    "Load the Pubmed dataset which was downloaded to the local directory "
   ]
  },
  {
   "cell_type": "code",
   "execution_count": 8,
   "metadata": {},
   "outputs": [
    {
     "name": "stderr",
     "output_type": "stream",
     "text": [
      "No config specified, defaulting to: pubmed-summarization/section\n",
      "Found cached dataset pubmed-summarization (/home/peppe/.cache/huggingface/datasets/ccdv___pubmed-summarization/section/1.0.0/f765ec606c790e8c5694b226814a13f1974ba4ea98280989edaffb152ded5e2b)\n",
      "100%|██████████| 3/3 [00:00<00:00, 761.91it/s]"
     ]
    },
    {
     "name": "stdout",
     "output_type": "stream",
     "text": [
      "DatasetDict({\n",
      "    train: Dataset({\n",
      "        features: ['article', 'abstract'],\n",
      "        num_rows: 119924\n",
      "    })\n",
      "    validation: Dataset({\n",
      "        features: ['article', 'abstract'],\n",
      "        num_rows: 6633\n",
      "    })\n",
      "    test: Dataset({\n",
      "        features: ['article', 'abstract'],\n",
      "        num_rows: 6658\n",
      "    })\n",
      "})\n"
     ]
    },
    {
     "name": "stderr",
     "output_type": "stream",
     "text": [
      "\n"
     ]
    }
   ],
   "source": [
    "pubmed_dataset = load_dataset(\"ccdv/pubmed-summarization\")\n",
    "print(pubmed_dataset)"
   ]
  },
  {
   "attachments": {},
   "cell_type": "markdown",
   "metadata": {},
   "source": [
    "Load and Visualize the Dataset, cleaning two examples in the validation"
   ]
  },
  {
   "cell_type": "code",
   "execution_count": 9,
   "metadata": {},
   "outputs": [
    {
     "name": "stderr",
     "output_type": "stream",
     "text": [
      "100%|██████████| 6658/6658 [00:00<00:00, 31134.04it/s]\n",
      "100%|██████████| 116937/116937 [00:05<00:00, 22099.65it/s]\n"
     ]
    }
   ],
   "source": [
    "import json\n",
    "from tqdm import tqdm\n",
    "\n",
    "def load_corpus(fname, is_training):\n",
    "    corpus = []\n",
    "    with open(fname, \"r\") as f:\n",
    "        lines = f.readlines()  # Read all lines into a list\n",
    "        for i, line in tqdm(enumerate(lines), total=len(lines)):\n",
    "            data = json.loads(line)\n",
    "            if len(data[\"text\"]) == 0 or len(data[\"summary\"]) == 0:\n",
    "                print(i)\n",
    "                continue\n",
    "            if is_training:\n",
    "                if len(data[\"indices\"]) == 0 or len(data[\"score\"]) == 0:\n",
    "                    continue\n",
    "\n",
    "            corpus.append(data)\n",
    "    return corpus\n",
    "\n",
    "val = load_corpus(\"src/data/PubMed/test_PUBMED.jsonl\", False)\n",
    "train = load_corpus(\"src/data/PubMed/train_PUBMED_labelled.jsonl\", True)\n"
   ]
  },
  {
   "cell_type": "code",
   "execution_count": 4,
   "metadata": {},
   "outputs": [
    {
     "data": {
      "text/plain": [
       "{'article': ' \\n  \\n  \\n  \\n ',\n",
       " 'abstract': \"according to the central limit theorem , the means of a random sample of size , n , from a population with mean ,  , and variance , 2 , distribute normally with mean ,  , and variance , 2n . using the central limit theorem , \\n a variety of parametric tests have been developed under assumptions about the parameters that determine the population probability distribution . \\n compared to non - parametric tests , which do not require any assumptions about the population probability distribution , parametric tests produce more accurate and precise estimates with higher statistical powers . \\n however , many medical researchers use parametric tests to present their data without knowledge of the contribution of the central limit theorem to the development of such tests . \\n thus , this review presents the basic concepts of the central limit theorem and its role in binomial distributions and the student 's t - test , and provides an example of the sampling distributions of small populations . \\n a proof of the central limit theorem is also described with the mathematical concepts required for its near - complete understanding .\"}"
      ]
     },
     "execution_count": 4,
     "metadata": {},
     "output_type": "execute_result"
    }
   ],
   "source": [
    "pubmed_dataset['validation'][2320]"
   ]
  },
  {
   "cell_type": "code",
   "execution_count": 5,
   "metadata": {},
   "outputs": [
    {
     "data": {
      "text/plain": [
       "{'article': ' \\n  \\n  \\n  \\n  \\n ',\n",
       " 'abstract': 'highlightswe present a rare case of a congenital splenic cyst that corresponds to less than 10% of non - parasitic splenic cyst.we describe our laparoscopic approach management of a partial splenectomywe review the literature on the different treatment options for npsc based on recurrence and success rates .'}"
      ]
     },
     "execution_count": 5,
     "metadata": {},
     "output_type": "execute_result"
    }
   ],
   "source": [
    "pubmed_dataset['validation'][4923]"
   ]
  },
  {
   "cell_type": "markdown",
   "metadata": {},
   "source": [
    "## **Clean Dataset Class**"
   ]
  },
  {
   "cell_type": "code",
   "execution_count": 10,
   "metadata": {},
   "outputs": [],
   "source": [
    "from torch.utils.data import Dataset\n",
    "\n",
    "class Clean_Dataset(Dataset):\n",
    "    # This is used to clean the noisy sample from PubMed train\n",
    "    def __init__(self, abs_dataset, ext_dataset, val = False):\n",
    "        self.abs_dataset = abs_dataset\n",
    "        self.ext_dataset = ext_dataset\n",
    "        self.abs_dataset, self.ext_dataset = self.preprocess(val)\n",
    "\n",
    "\n",
    "    def __len__(self):\n",
    "        return len(self.ext_dataset)\n",
    "    \n",
    "    def __getitem__(self, idx):\n",
    "\n",
    "        return self.abs_dataset[idx], self.ext_dataset[idx]\n",
    "    \n",
    "    def compare(self,s1,s2, red = True):\n",
    "        distance = (s1[:len(s2)+10].strip()).startswith(s2.strip())#Levenshtein.distance(s1[:100], s2[:100])\n",
    "        if not distance:\n",
    "            if red:\n",
    "                print(f\"\\nEXT: \\n\", s2)\n",
    "                print(f\"\\nABS: \\n\", s1[:len(s2)+10])\n",
    "            return False\n",
    "        else:\n",
    "            return True\n",
    "            \n",
    "    \n",
    "    def preprocess(self, val = False):\n",
    "        new_dataset_abs = []\n",
    "        new_dataset = []\n",
    "        new_ext = []\n",
    "        count = 0\n",
    "        for idx in tqdm(range(len(self.abs_dataset))):\n",
    "\n",
    "            if self.abs_dataset[idx]['article'] != \"\":\n",
    "                if not val:\n",
    "                    new_dataset_abs.append({\"article\": self.abs_dataset[idx]['article'], 'abstract': self.abs_dataset[idx]['abstract']})\n",
    "                elif val and idx not in [4923, 2320]:\n",
    "                    new_dataset_abs.append({\"article\": self.abs_dataset[idx]['article'], 'abstract': self.abs_dataset[idx]['abstract']})\n",
    "\n",
    "            else:\n",
    "                count+=1\n",
    "        if not val:\n",
    "            for idx in range(len(self.ext_dataset)):\n",
    "                if self.compare(new_dataset_abs[idx]['article'],self.ext_dataset[idx]['text'][0]):\n",
    "                    new_dataset.append({\"article\": new_dataset_abs[idx]['article'], 'abstract': new_dataset_abs[idx]['abstract']})\n",
    "                    new_ext.append(self.ext_dataset[idx])\n",
    "                    continue\n",
    "                    \n",
    "                else:\n",
    "                    count+=1\n",
    "                    for idx2 in range(1, len(new_dataset_abs[idx:])):\n",
    "                        if self.compare(new_dataset_abs[idx2+idx]['article'],self.ext_dataset[idx]['text'][0], red = False):\n",
    "                            new_dataset.append({\"article\": new_dataset_abs[idx2+idx]['article'], 'abstract': new_dataset_abs[idx2+idx]['abstract']})\n",
    "                            new_ext.append(self.ext_dataset[idx])\n",
    "                            break\n",
    "        else:\n",
    "            new_dataset = new_dataset_abs\n",
    "            new_ext = self.ext_dataset\n",
    "\n",
    "        return new_dataset, new_ext\n",
    "        "
   ]
  },
  {
   "cell_type": "markdown",
   "metadata": {},
   "source": [
    "Run only once"
   ]
  },
  {
   "cell_type": "code",
   "execution_count": 11,
   "metadata": {},
   "outputs": [
    {
     "name": "stderr",
     "output_type": "stream",
     "text": [
      "100%|██████████| 6658/6658 [00:00<00:00, 13149.12it/s]"
     ]
    },
    {
     "name": "stdout",
     "output_type": "stream",
     "text": [
      "6658\n"
     ]
    },
    {
     "name": "stderr",
     "output_type": "stream",
     "text": [
      "\n"
     ]
    }
   ],
   "source": [
    "# train_new = Clean_Dataset(pubmed_dataset['train'], train, val = False)\n",
    "# val_new = Clean_Dataset(pubmed_dataset['test'], val, val = True)\n",
    "# print(len(train_new))\n",
    "# print(len(val_new))"
   ]
  },
  {
   "cell_type": "code",
   "execution_count": 16,
   "metadata": {},
   "outputs": [],
   "source": [
    "# serialized_data_val = [sample for sample in val_new]\n",
    "#serialized_data_train = [sample for sample in val_new]"
   ]
  },
  {
   "cell_type": "code",
   "execution_count": 17,
   "metadata": {},
   "outputs": [],
   "source": [
    "#with open(\"src/data/PubMed/Train_ExtAbs_PUBMED.json\", \"w\") as f:\n",
    "#    json.dump(serialized_data_train, f)\n",
    "\n",
    "# with open(\"src/data/PubMed/Test_ExtAbs_PUBMED.json\", \"w\") as f:\n",
    "#    json.dump(serialized_data_val, f)"
   ]
  },
  {
   "cell_type": "markdown",
   "metadata": {},
   "source": [
    "Load the saved dataset by opening the .json file"
   ]
  },
  {
   "cell_type": "code",
   "execution_count": 3,
   "metadata": {},
   "outputs": [],
   "source": [
    "with open(\"src/data/PubMed/Train_ExtAbs_PUBMED.json\") as f:\n",
    "        training_corpus = json.load(f)"
   ]
  },
  {
   "cell_type": "code",
   "execution_count": 4,
   "metadata": {},
   "outputs": [
    {
     "data": {
      "text/plain": [
       "113754"
      ]
     },
     "execution_count": 4,
     "metadata": {},
     "output_type": "execute_result"
    }
   ],
   "source": [
    "len(training_corpus) # len is 113754 # Removed the sentences that were not in the abstractive, and grouped them correctly."
   ]
  },
  {
   "cell_type": "code",
   "execution_count": 11,
   "metadata": {},
   "outputs": [
    {
     "data": {
      "text/plain": [
       "{'text': ['a recent systematic analysis showed that in 2011 , 314 ( 296 - 331 ) million children younger than 5 years were mildly , moderately or severely stunted and 258 ( 240 - 274 ) million were mildly , moderately or severely underweight in the developing countries .',\n",
       "  'in iran a study among 752 high school girls in sistan and baluchestan showed prevalence of 16.2% , 8.6% and 1.5% , for underweight , overweight and obesity , respectively .',\n",
       "  'the prevalence of malnutrition among elementary school aged children in tehran varied from 6% to 16% .',\n",
       "  'anthropometric study of elementary school students in shiraz revealed that 16% of them suffer from malnutrition and low body weight .',\n",
       "  'snack should have 300 - 400 kcal energy and could provide 5 - 10 g of protein / day . nowadays , school nutrition programs are running as the national programs , world - wide . national school lunch program in the united states',\n",
       "  'there are also some reports regarding school feeding programs in developing countries . in vietnam ,',\n",
       "  'school base program showed an improvement in nutrient intakes . in iran a national free food program ( nffp )',\n",
       "  'is implemented in elementary schools of deprived areas to cover all poor students . however , this program is not conducted in slums and poor areas of the big cities so many malnourished children with low socio - economic situation are not covered by nffp . although the rate of poverty in areas known as deprived is higher than other areas , many students in deprived areas are not actually poor and can afford food .',\n",
       "  'hence , nutritional value of the nffp is lower than the scientific recommended snacks for this age group .',\n",
       "  'furthermore , lack of variety of food packages has decreased the tendency of children toward nffp . on the other hand ,',\n",
       "  'the most important one is ministry of education ( moe ) of iran , which is responsible for selecting and providing the packages for targeted schools .',\n",
       "  'the ministry of health ( moh ) is supervising the health situation of students and their health needs .',\n",
       "  'welfare organizations , along with charities , have the indirect effect on nutritional status of students by financial support of their family .',\n",
       "  'provincial governors have also the role of coordinating and supervising all activities of these organizations .',\n",
       "  \"parent - teacher association is a community - based institution that participates in school 's policy such as nffp .\",\n",
       "  'in addition to these organizations , nutritional literacy of students , their parents and teachers , is a very important issue , which could affect nutritional status of school age children .',\n",
       "  'therefore , the present study was conducted with the aim of improving the nffp , so that by its resources all poor children will be covered even in big cities .',\n",
       "  'moreover , all food packages were replaced by nutritious and diverse packages that were accessible for non - poor children . according to the aim of this study and multiple factors that could affect the problem ,',\n",
       "  'public health advocacy has been chosen as the best strategy to deal with this issue .',\n",
       "  'therefore , the present study determines the effects of nutrition intervention in an advocacy process model on the prevalence of underweight in school aged children in the poor area of shiraz , iran .',\n",
       "  'this interventional study has been carried out between 2009 and 2010 in shiraz , iran .',\n",
       "  'this survey was approved by the research committee of shiraz university of medical sciences . in coordination with education organization of fars province',\n",
       "  'two elementary schools and one middle school in the third region of the urban area of shiraz were selected randomly . in those schools all',\n",
       "  'students ( 2897 , 7 - 13 years old ) were screened based on their body mass index ( bmi ) by nutritionists . according to convenience method all',\n",
       "  \"students divided to two groups based on their economic situation ; family revenue and head of household 's job and nutrition situation ; the first group were poor and malnourished students and the other group were well nourished or well - off students .\",\n",
       "  \"for this report , the children 's height and weight were entered into center for disease control and prevention ( cdc ) to calculate bmi and bmi - for - age z - scores based on cdc for diseases control and prevention and growth standards .\",\n",
       "  'the significance of the difference between proportions was calculated using two - tailed z - tests for independent proportions . for implementing the interventions ,',\n",
       "  'the advocacy process model weight was to the nearest 0.1 kg on a balance scale ( model # seca scale ) .',\n",
       "  'standing height was measured to the nearest 0.1 cm with a wall - mounted stadiometer .',\n",
       "  'advocacy group formation : this step was started with stakeholder analysis and identifying the stakeholders .',\n",
       "  'the team was formed with representatives of all stakeholders include ; education organization , welfare organization , deputy for health of shiraz university , food and cosmetic product supervisory office and several non - governmental organizations and charities . situation analysis : this was carried out by use of existing data such as formal report of organizations , literature review and focus group with experts .',\n",
       "  'the prevalence of malnutrition and its related factors among students was determined and weaknesses and strengths of the nffp were analyzed .',\n",
       "  'accordingly , three sub - groups were established : research and evaluation , education and justification and executive group . designing the strategies :',\n",
       "  'three strategies were identified ; education and justification campaign , nutritional intervention ( providing nutritious , safe and diverse snacks ) and networking . performing the interventions : interventions that were implementing in selected schools were providing a diverse and nutritious snack package along with nutrition education for both groups while the first group ( poor and malnourished students ) was utilized the package free of charge .',\n",
       "  'education and justification intervention : regarding the literature review and expert opinion , an educational group affiliated with the advocacy team has prepared educational booklets about nutritional information for each level ( degree ) .',\n",
       "  'accordingly , education of these booklets has been integrated into regular education of students and they educated and justified for better nutrition life - style .',\n",
       "  \"it leads the educational group to hold several meeting with the student 's parents to justify them about the project and its benefit for their children .\",\n",
       "  'after these meetings , parental desire for participation in the project illustrated the effectiveness of the justification meeting with them .',\n",
       "  'for educate fifteen talk show programs in tv and radio , 12 published papers in the local newspaper , have implemented to mobilize the community and gain their support .',\n",
       "  'healthy diet , the importance of breakfast and snack in adolescence , wrong food habits among school age children , role of the family to improve food habit of children were the main topics , in which media campaign has focused on .',\n",
       "  'nutritional intervention : the snack basket of the students was replaced with traditional , nutritious and diverse foods . in general , the new snack package in average has provided 380 kcal energy , 15 g protein along with sufficient calcium and iron .',\n",
       "  'low economic and malnourished children were supported by executive group affiliated with advocacy team and the rest of them prepare their snack by themselves .',\n",
       "  'research and evaluation : in this step , the literacy and anthropometric indices ( bmi ) of students were assessed before and after the interventions .',\n",
       "  'the reference for anthropometric measures was the world health organization / national center for health statistics ( who / nchs ) standards and the cut - offs were - two standard deviations ( sd ) from the mean .',\n",
       "  'each student that was malnourished and poor has been taken into account for free food and nutritious snacks .',\n",
       "  \"demographic information , height , weight and knowledge of the students were measured by use of a validated and reliable ( cronbach 's alpha was 0.61 ) questionnaire .\",\n",
       "  'this project is granted by shiraz university of medical sciences , charities and welfare organization and education organization of fars province .',\n",
       "  'statistical analyses were performed using the statistical package for the social sciences ( spss ) software , version 17.0 ( spss inc . ,',\n",
       "  'the results are expressed as mean  sd and proportions as appropriated . in order to determine the effective variables on the malnutrition status',\n",
       "  'paired t test was used to compare the end values with baseline ones in each group .',\n",
       "  'in this project , the who z - score cut - offs used were as follow : using bmi - for - age z - scores ; overweight : > + 1 sd , i.e. , z - score > 1 ( equivalent to bmi 25 kg / m ) , obesity : > + 2 sd ( equivalent to bmi 30 kg / m ) , thinness : < 2 sd and severe thinness : < 3 sd .',\n",
       "  'this interventional study has been carried out between 2009 and 2010 in shiraz , iran .',\n",
       "  'this survey was approved by the research committee of shiraz university of medical sciences . in coordination with education organization of fars province',\n",
       "  'two elementary schools and one middle school in the third region of the urban area of shiraz were selected randomly . in those schools all',\n",
       "  'students ( 2897 , 7 - 13 years old ) were screened based on their body mass index ( bmi ) by nutritionists . according to convenience method all',\n",
       "  \"students divided to two groups based on their economic situation ; family revenue and head of household 's job and nutrition situation ; the first group were poor and malnourished students and the other group were well nourished or well - off students .\",\n",
       "  \"for this report , the children 's height and weight were entered into center for disease control and prevention ( cdc ) to calculate bmi and bmi - for - age z - scores based on cdc for diseases control and prevention and growth standards .\",\n",
       "  'the significance of the difference between proportions was calculated using two - tailed z - tests for independent proportions . for implementing the interventions ,',\n",
       "  'weight was to the nearest 0.1 kg on a balance scale ( model # seca scale ) .',\n",
       "  'standing height was measured to the nearest 0.1 cm with a wall - mounted stadiometer .',\n",
       "  'advocacy group formation : this step was started with stakeholder analysis and identifying the stakeholders .',\n",
       "  'the team was formed with representatives of all stakeholders include ; education organization , welfare organization , deputy for health of shiraz university , food and cosmetic product supervisory office and several non - governmental organizations and charities . situation analysis : this was carried out by use of existing data such as formal report of organizations , literature review and focus group with experts .',\n",
       "  'the prevalence of malnutrition and its related factors among students was determined and weaknesses and strengths of the nffp were analyzed .',\n",
       "  'accordingly , three sub - groups were established : research and evaluation , education and justification and executive group . designing the strategies :',\n",
       "  'three strategies were identified ; education and justification campaign , nutritional intervention ( providing nutritious , safe and diverse snacks ) and networking . performing the interventions : interventions that were implementing in selected schools were providing a diverse and nutritious snack package along with nutrition education for both groups while the first group ( poor and malnourished students ) was utilized the package free of charge . duration of intervention was 6 months .',\n",
       "  'education and justification intervention : regarding the literature review and expert opinion , an educational group affiliated with the advocacy team has prepared educational booklets about nutritional information for each level ( degree ) .',\n",
       "  \"accordingly , education of these booklets has been integrated into regular education of students and they educated and justified for better nutrition life - style . obviously , student 's families had remarkable effect on children 's food habit .\",\n",
       "  \"it leads the educational group to hold several meeting with the student 's parents to justify them about the project and its benefit for their children .\",\n",
       "  'after these meetings , parental desire for participation in the project illustrated the effectiveness of the justification meeting with them .',\n",
       "  'educate fifteen talk show programs in tv and radio , 12 published papers in the local newspaper , have implemented to mobilize the community and gain their support .',\n",
       "  'healthy diet , the importance of breakfast and snack in adolescence , wrong food habits among school age children , role of the family to improve food habit of children were the main topics , in which media campaign has focused on .',\n",
       "  'nutritional intervention : the snack basket of the students was replaced with traditional , nutritious and diverse foods . in general , the new snack package in average has provided 380 kcal energy , 15 g protein along with sufficient calcium and iron .',\n",
       "  'low economic and malnourished children were supported by executive group affiliated with advocacy team and the rest of them prepare their snack by themselves .',\n",
       "  'research and evaluation : in this step , the literacy and anthropometric indices ( bmi ) of students were assessed before and after the interventions .',\n",
       "  'the reference for anthropometric measures was the world health organization / national center for health statistics ( who / nchs ) standards and the cut - offs were - two standard deviations ( sd ) from the mean .',\n",
       "  'each student that was malnourished and poor has been taken into account for free food and nutritious snacks .',\n",
       "  \"demographic information , height , weight and knowledge of the students were measured by use of a validated and reliable ( cronbach 's alpha was 0.61 ) questionnaire .\",\n",
       "  'this project is granted by shiraz university of medical sciences , charities and welfare organization and education organization of fars province .',\n",
       "  'advocacy group formation : this step was started with stakeholder analysis and identifying the stakeholders .',\n",
       "  'the team was formed with representatives of all stakeholders include ; education organization , welfare organization , deputy for health of shiraz university , food and cosmetic product supervisory office and several non - governmental organizations and charities .',\n",
       "  'situation analysis : this was carried out by use of existing data such as formal report of organizations , literature review and focus group with experts .',\n",
       "  'the prevalence of malnutrition and its related factors among students was determined and weaknesses and strengths of the nffp were analyzed .',\n",
       "  'accordingly , three sub - groups were established : research and evaluation , education and justification and executive group .',\n",
       "  'designing the strategies : three strategies were identified ; education and justification campaign , nutritional intervention ( providing nutritious , safe and diverse snacks ) and networking .',\n",
       "  'performing the interventions : interventions that were implementing in selected schools were providing a diverse and nutritious snack package along with nutrition education for both groups while the first group ( poor and malnourished students ) was utilized the package free of charge .',\n",
       "  'education and justification intervention : regarding the literature review and expert opinion , an educational group affiliated with the advocacy team has prepared educational booklets about nutritional information for each level ( degree ) .',\n",
       "  \"accordingly , education of these booklets has been integrated into regular education of students and they educated and justified for better nutrition life - style . obviously , student 's families had remarkable effect on children 's food habit .\",\n",
       "  \"it leads the educational group to hold several meeting with the student 's parents to justify them about the project and its benefit for their children .\",\n",
       "  'after these meetings , parental desire for participation in the project illustrated the effectiveness of the justification meeting with them .',\n",
       "  'educate fifteen talk show programs in tv and radio , 12 published papers in the local newspaper , have implemented to mobilize the community and gain their support .',\n",
       "  'healthy diet , the importance of breakfast and snack in adolescence , wrong food habits among school age children , role of the family to improve food habit of children were the main topics , in which media campaign has focused on . nutritional intervention : the snack basket of the students',\n",
       "  'was replaced with traditional , nutritious and diverse foods . in general , the new snack package in average has provided 380 kcal energy , 15 g protein along with sufficient calcium and iron .',\n",
       "  'low economic and malnourished children were supported by executive group affiliated with advocacy team and the rest of them prepare their snack by themselves .',\n",
       "  'research and evaluation : in this step , the literacy and anthropometric indices ( bmi ) of students were assessed before and after the interventions .',\n",
       "  'the reference for anthropometric measures was the world health organization / national center for health statistics ( who / nchs ) standards and the cut - offs were - two standard deviations ( sd ) from the mean .',\n",
       "  'each student that was malnourished and poor has been taken into account for free food and nutritious snacks .',\n",
       "  \"demographic information , height , weight and knowledge of the students were measured by use of a validated and reliable ( cronbach 's alpha was 0.61 ) questionnaire .\",\n",
       "  'this project is granted by shiraz university of medical sciences , charities and welfare organization and education organization of fars province .',\n",
       "  'statistical analyses were performed using the statistical package for the social sciences ( spss ) software , version 17.0 ( spss inc . , chicago , il , usa ) .',\n",
       "  'the results are expressed as mean  sd and proportions as appropriated . in order to determine the effective variables on the malnutrition status',\n",
       "  'paired t test was used to compare the end values with baseline ones in each group .',\n",
       "  'two - sided p < 0.05 was considered to be statistically significant . in this project ,',\n",
       "  'the who z - score cut - offs used were as follow : using bmi - for - age z - scores ; overweight : > + 1 sd , i.e. , z - score > 1 ( equivalent to bmi 25 kg / m ) , obesity : > + 2 sd ( equivalent to bmi 30',\n",
       "  'kg / m ) , thinness : < 2 sd and severe thinness : < 3 sd .',\n",
       "  'study population contains 2897 children ; 70.8% were primary school students and 29.2% were secondary school students .',\n",
       "  '2336 ( 80.5% ) out of total students were well - off and 561 children ( 19.5% ) were indigent .',\n",
       "  '19.5% of subjects were in case group ( n = 561 ) and 80.5% were in the control group ( n = 2336 ) .',\n",
       "  'the mean of age in welfare group was 10.0  2.3 and 10.5  2.5 in non - welfare group .',\n",
       "  'demographic characteristics of school aged children in shiraz , iran table 2 shows the frequency of subjects in different categories of bmi for age in non - welfare and welfare groups of school aged children separately among boys and girls before and after a nutrition intervention based on advocacy process model in shiraz , iran .',\n",
       "  'the frequency of subjects with bmi lower than < 2 sd decreased significantly after intervention among non - welfare girls ( p < 0.01 ) .',\n",
       "  'however , there were no significant decreases in the frequency of subjects with bmi lower than < 2 sd boys .',\n",
       "  'when we assess the effect of intervention in total population without separating by sex groups , we found no significant change in this population [ table 3 ] .',\n",
       "  'bmi for age for iranian students aged 7 - 14 years based on gender according to who growth standards 2007 bmi for age for iranian students aged 7 - 14 years according to who growth standards 2007 in non - welfare and welfare groups of total population table 4 has shown the prevalence of normal bmi , mild , moderate and severe malnutrition in non - welfare and welfare groups of school aged children separately among boys and girls before and after a nutrition intervention based on advocacy process model . according to this table',\n",
       "  'there were no significant differences in the prevalence of mild , moderate and severe malnutrition among girls and boys .',\n",
       "  'table 4 also shows the mean of all anthropometric indices changed significantly after intervention both among girls and boys .',\n",
       "  \"the pre- and post - test education assessment in both groups showed that the student 's average knowledge score has been significantly increased from 12.5  3.2 to 16.8  4.3 ( p < 0.0001 ) .\",\n",
       "  \"bmi , height and weight in non - welfare and welfare groups of school aged children separately in males and females before and after a nutrition intervention based on advocacy process model in shiraz , iran according to study 's finding the odds ratio ( or ) of sever thinness and thinness in non - welfare compared with welfare is 3.5 ( or = 3.5 , confidence interval [ ci ] = 2.5 - 3.9 , p < 0.001 ) .\",\n",
       "  'furthermore , the finding showed or of overweight and obesity in welfare compared to non - welfare is 19.3 ( or = 19.3 , ci = 2.5 - 3.9 , p = 0.04 ) .',\n",
       "  'the result of this community intervention study revealed that nutrition intervention based on advocacy program had been successful to reduce the prevalence of underweight among poor girls .',\n",
       "  'this study shows determinant factor of nutritional status of school age children was their socio - economic level . according to our knowledge ,',\n",
       "  'this is the first study , which determines the effect of a community intervention based on advocacy process on the malnutrition indices in a big city ( shiraz ) in iran .',\n",
       "  'the other program in iran ( nffp ) is specified to deprived area and is not conducted in big cities .',\n",
       "  \"allocating millions of dollars to nffp by government , selecting the malnourished students through an active screening system at primary and middle schools , paying attention of policy makers to student 's nutrition have provided the opportunity to combat the problem . however , negligence of under - poverty line , providing poor snacks in terms of nutritional value and lack of variety are the main defects of this program .\",\n",
       "  'advocacy by definition is a blending of science , ethics and politics for comprehensive approaching health issues . by using advocacy program in california among the high school students for improving their nutrition and physical activity',\n",
       "  'angeles unified school district participants emphasized on nutrition classes for families as well as students in addition to other interventions . in the present study',\n",
       "  'another study revealed that evaluability assessment gave stakeholders the opportunity to reflect on the project and its implementation issues .',\n",
       "  'it seems that in iran , free food program among the students not only is needed in deprived areas , but also it should be performed in big cities such as shiraz . at baseline ,',\n",
       "  'no significant difference was founded among wealthy students between the pre- and post - nutritional status intervention .',\n",
       "  'in contrast , the numbers of students who have malnutrition decreased from 44% to 39.4% , which was identified as a significant among impecunious girls students .',\n",
       "  'there was also a significant increase in the proportion of children with bmi that was normal for age ( 2 to + 1 sd ) most of the published community interventions showed better results among females compared with males .',\n",
       "  'this difference in the impact of nutritional interventions between male and female might be related to the different age of puberty in the female population compared to the male population . in the age range of the present study female',\n",
       "  'although , there is no nffp in big cities of iran , there are some programs for improving the nutritional status such as providing free milk in schools .',\n",
       "  'a recent publication has shown that school feeding programs focus on milk supplementation had beneficial effects on the physical function and school performances specifically among girls in iran .',\n",
       "  \"the results of the mentioned study showed an improvement in the weight of children , psychological test 's scores and the grade - point average following this school feeding program .\",\n",
       "  'the intervention in the present study had focused on the snack intake in the school time .',\n",
       "  'there are some reports regarding the nutrition transition in iran , which shows the importance of nutrition intervention to provide more healthy eating dietary habits among welfare groups of adolescents .',\n",
       "  \"hence , nutrition intervention especially in the form of nutrition education is needed in big cities and among welfare children and adolescents . although a study among iranian adolescents showed that dietary behavior of adolescents does not accord to their knowledge , which emphasize on the necessity of community intervention programs . a recent study regarding the major dietary pattern among iranian children showed the presence of four major dietary patterns , in which fast food pattern and sweet pattern as two major dietary patterns can be mentioned among iranian children . in advocacy program audience 's analysis\",\n",
       "  'accordingly , one of the prominent strategies in this study was working with media and was meeting with parent - teacher association that both of them were secondary target audiences',\n",
       "  '. we also took into account policy makers in different levels , from national to local as primary audiences .',\n",
       "  'advocacy team had several meetings with management and planning organization at national level and education organization of the fars province as well as principal of the targeted schools .',\n",
       "  'providing nutritious snacks need contribution of private sector such as food industries or factories , but their benefits should be warranted .',\n",
       "  'another choice was community involvement ; which can be achieved by female health volunteers who are working with the health system .',\n",
       "  \"advocacy team by using the support of charities and female health volunteers could establish a local factory that produced student 's snacks based on the new definition . however , there are some challenges on the way of expanding this program .\",\n",
       "  'mass production of the proposed snacks according to different desires and cultures and getting involvement of food industries with respect to marketing issues is one of those challenges .',\n",
       "  'moreover , providing a supportive environment in order to change the food habits of the students and their parents among the wide range of the population require a sustainable and continuous inter - sector collaboration .',\n",
       "  'although in a limited number of schools , in our study , interventions and advocacy program was successful , expanding this model to another areas around the country depends on convincing the policy makers at national level . in this',\n",
       "  'regard , advocacy team should prepare evidenced based profile and transitional planning to convince the policy makers for improving the rule and regulation of nffp .',\n",
       "  'the same as this study in other studies have also emphasized that there must be efforts to strengthen the capacity within the schools to deal with the nutritional problems either overweight , obesity or malnutrition by using of educational and nutritional intervention .',\n",
       "  \"assessing the dietary adherence is very important in nutrition intervention among population . as this population was children and adolescents we had a limitation in the blood sample collection to assess the subject 's dietary adherence .\",\n",
       "  'furthermore , this intervention was only focused on the intake of snack in school time and we did not have comprehensive information on the dietary intake of children and adolescents after school all over the day .',\n",
       "  'the investigators propose further investigation in different areas of the country based on socio - cultural differences in order to make necessary modification and adapt this model to other areas .',\n",
       "  'regarding the nutritional needs of the school age children , provision of a good platform for implementing and expanding this efficient model to the whole country based upon the socio - economic situation of each region is advisable to the moh and the moe .',\n",
       "  'community nutrition intervention based on the advocacy process model is effective on reducing the prevalence of underweight specifically among female school aged children .'],\n",
       " 'summary': ['background : the present study was carried out to assess the effects of community nutrition intervention based on advocacy approach on malnutrition status among school - aged children in shiraz , iran.materials and methods : this case - control nutritional intervention has been done between 2008 and 2009 on 2897 primary and secondary school boys and girls ( 7 - 13 years old ) based on advocacy approach in shiraz , iran .',\n",
       "  'the project provided nutritious snacks in public schools over a 2-year period along with advocacy oriented actions in order to implement and promote nutritional intervention . for evaluation of effectiveness of the intervention growth monitoring indices of pre- and post - intervention were statistically compared.results:the frequency of subjects with body mass index lower than 5% decreased significantly after intervention among girls ( p = 0.02 ) .',\n",
       "  'however , there were no significant changes among boys or total population .',\n",
       "  'the mean of all anthropometric indices changed significantly after intervention both among girls and boys as well as in total population .',\n",
       "  \"the pre- and post - test education assessment in both groups showed that the student 's average knowledge score has been significantly increased from 12.5  3.2 to 16.8  4.3 ( p < 0.0001).conclusion : this study demonstrates the potential success and scalability of school feeding programs in iran .\",\n",
       "  'community nutrition intervention based on the advocacy process model is effective on reducing the prevalence of underweight specifically among female school aged children .'],\n",
       " 'indices': [[115, 108, 152, 114, 110, 23, 51, 48, 109],\n",
       "  [115, 108, 152, 114, 110, 23, 51, 99, 109],\n",
       "  [115, 108, 152, 114, 110, 23, 20, 48, 109],\n",
       "  [115, 108, 152, 114, 110, 23, 20, 99, 109],\n",
       "  [115, 108, 152, 114, 110, 23, 51, 48, 127],\n",
       "  [115, 108, 152, 114, 110, 23, 51, 99, 127],\n",
       "  [115, 108, 152, 114, 110, 23, 20, 48, 127],\n",
       "  [115, 108, 152, 114, 110, 23, 20, 99, 127],\n",
       "  [115, 108, 152, 114, 109, 120, 127, 54, 20],\n",
       "  [115, 108, 152, 114, 109, 120, 127, 54, 51],\n",
       "  [115, 108, 152, 114, 109, 120, 127, 23, 51],\n",
       "  [115, 108, 152, 114, 109, 120, 127, 23, 20],\n",
       "  [115, 108, 152, 114, 110, 118, 51, 23, 127],\n",
       "  [115, 108, 152, 114, 110, 118, 51, 54, 127],\n",
       "  [115, 108, 152, 114, 110, 118, 20, 23, 127],\n",
       "  [115, 108, 152, 114, 110, 118, 20, 54, 127],\n",
       "  [115, 108, 152, 114, 110, 118, 51, 23, 48, 127],\n",
       "  [115, 108, 152, 114, 110, 118, 51, 54, 48, 127],\n",
       "  [115, 108, 152, 114, 110, 118, 20, 23, 48, 127],\n",
       "  [115, 108, 152, 114, 110, 118, 20, 54, 48, 127]],\n",
       " 'score': [0.6119517752051,\n",
       "  0.6119517752051,\n",
       "  0.6119517752051,\n",
       "  0.6119517752051,\n",
       "  0.6098585740979842,\n",
       "  0.6098585740979842,\n",
       "  0.6098585740979842,\n",
       "  0.6098585740979842,\n",
       "  0.6088035527700688,\n",
       "  0.6088035527700688,\n",
       "  0.6088035527700688,\n",
       "  0.6088035527700688,\n",
       "  0.6075374976277315,\n",
       "  0.6075374976277315,\n",
       "  0.6075374976277315,\n",
       "  0.6075374976277315,\n",
       "  0.6046939834034892,\n",
       "  0.6046939834034892,\n",
       "  0.6046939834034892,\n",
       "  0.6046939834034892]}"
      ]
     },
     "execution_count": 11,
     "metadata": {},
     "output_type": "execute_result"
    }
   ],
   "source": [
    "#Visualize an example\n",
    "training_corpus[0][1]"
   ]
  },
  {
   "cell_type": "code",
   "execution_count": 6,
   "metadata": {},
   "outputs": [
    {
     "data": {
      "text/plain": [
       "6631"
      ]
     },
     "execution_count": 6,
     "metadata": {},
     "output_type": "execute_result"
    }
   ],
   "source": [
    "with open(\"src/data/PubMed/Val_ExtAbs_PUBMED.json\") as f:\n",
    "        validation_corpus = json.load(f)\n",
    "len(validation_corpus) # len is 6631 # removed the same sentences of the original"
   ]
  },
  {
   "cell_type": "code",
   "execution_count": 13,
   "metadata": {},
   "outputs": [
    {
     "data": {
      "text/plain": [
       "{'summary': ['background and aim : there is lack of substantial indian data on venous thromboembolism ( vte ) .',\n",
       "  'the aim of this study was to provide real - world information on patient characteristics , management strategies , clinical outcomes , and temporal trends in vte.subjects and methods : multicentre retrospective registry involving 549 medical records of patients with confirmed diagnosis of vte ( deep vein thrombosis [ dvt ] confirmed by doppler ultrasonography ; pulmonary embolism [ pe ] by computed tomography , pulmonary angiography and/or v / q scan ) from 2006 to 2010 at three indian tertiary care hospitals.results:acute dvt without pe , acute dvt with pe , and pe alone were reported in 64% ( 352/549 ) , 23% ( 124/549 ) , and 13% ( 73/549 ) patients , respectively .',\n",
       "  'mean age was 47 ( 16 ) years , and 70% were males .',\n",
       "  'h / o dvt ( 34% ) , surgery including orthopedic surgery ( 28% ) , trauma ( 16% ) , and immobilization > 3 days ( 14% ) were the most common risk factors for vte .',\n",
       "  'hypertension ( 25% ) , diabetes ( 19% ) , and neurological disease ( other than stroke ) ( 8% ) were the most common co - morbidities .',\n",
       "  'most ( 94% ) were treated with heparin alone ( 82% ) or fondaparinux ( 2% ) for initial anticoagulation ; low molecular weight heparin alone ( 5% ) or warfarin / acenocoumarol ( 76% ) for long - term anticoagulation .',\n",
       "  'anticoagulant treatment was stopped because of bleeding in 2% ( 9/515 ) patients .',\n",
       "  'mortality was 7% among patients diagnosed with vte during hospital stay versus 1% in those hospitalized with diagnosed vte .',\n",
       "  'the annual incidence of dvt ( pe ) increased from 2006 to 2010.conclusion:acute dvt alone was responsible for the substantial burden of vte in indian patients .',\n",
       "  'bleeding was not the limiting factor for anticoagulant treatment in most patients .'],\n",
       " 'text': ['approximately , one - third of patients with symptomatic vte manifests pe , whereas two - thirds manifest dvt alone .',\n",
       "  'both dvt and pe can be clinically silent ( asymptomatic ) and hence not suspected .',\n",
       "  'if undiagnosed , asymptomatic vte can lead to chronic venous disease or recurrent vte and long - term debilitating sequelae such as postthrombotic syndrome and chronic thromboembolic pulmonary hypertension .',\n",
       "  'vte is not only disabling but also prolongs hospital stay and increases the cost of treatment .',\n",
       "  'along with myocardial infarction and arrhythmia ( due to electrolyte imbalance ) , pe is one of the commonest causes of sudden unexplained deaths in hospitalized patients .',\n",
       "  'it is estimated that 20 million cases of lower extremity dvt occur in the usa alone .',\n",
       "  'the prevailing notion that the incidence of vte in asians is less than that in the western population has been disproved by recent studies .',\n",
       "  'the incidence of postoperative dvt in indian patients undergoing major lower limb surgery is as high ( 43.2% and 60% patients in the groups with and without prophylaxis , respectively ) as seen in the western world .',\n",
       "  'given the growing burden of vte in india and lack of substantial indian data on characteristics of vte patients , use of diagnostics tools , prophylaxis , treatment options , and clinical outcomes in vte , there was a need to systematically collect such data .',\n",
       "  'data on patient characteristics , clinical outcomes , predictors of mortality in acute dvt , management strategies and temporal trends in vte .',\n",
       "  'the intent was to collect and provide data that would reflect actual day - to - day clinical practice , rather than results of highly controlled clinical trials with restricted study populations and imposed experimental intervention .',\n",
       "  'consecutive medical records of inpatients and outpatients between january 2006 and december 2010 , meeting eligibility criteria ( confirmed diagnosis of acute or acute - on - chronic dvt by doppler ultrasound scan and/or pe by chest computed tomography scan , pulmonary angiography or v / q scan ) were identified and collected from the general medical records and/or radiology departments at each of the three participating hospitals .',\n",
       "  'hospital data were used to obtain the total number of patients who were annually registered at the hospital from 2006 to 2010 .',\n",
       "  'data were processed and analyzed using sas ( version 9.1 , statistical analysis system ) . for the purpose of analysis ,  acute - on - chronic ',\n",
       "  'descriptive statistics were used to present patient characteristics , management strategies , and clinical outcomes of patients .',\n",
       "  'annual incidence rates ( 95% ci ) of vte per 100,000 hospital registrations over a period of 5 years were reported for each site .',\n",
       "  \"fisher 's exact test was used to determine differences in the incidence of acute dvt ( pe ) over the years 20062010 .\",\n",
       "  'armitage trend test was used to examine the direction ( positive or negative ) of the trend . as primary analyses',\n",
       "  'the remaining 41% ( 393/949 ) medical records were not included because they did not satisfy the inclusion criteria .',\n",
       "  'data from seven patients were excluded as there was no radiologically confirmed diagnosis of pe .',\n",
       "  'a total of 64% ( 352/549 ) patients had acute dvt without pe , 23% ( 124/549 ) had acute dvt with pe , and 13% ( 73/549 ) had pe .',\n",
       "  'eighty - seven percent ( 476/549 ) of patients had acute dvt ( pe ) , and 36% ( 197/549 ) had pe (  acute dvt ) [ figure 1 ] .',\n",
       "  'overall distribution of venous thromboembolism patients ( n = 549 ) a total of 21% ( 115/549 ) of patients visited the hospitals directly without being referred by a physician .',\n",
       "  'venous thromboembolism patients referred from different medical specialties ( n=434 ) the demographic characteristics of the vte patients are mentioned in table 2 .',\n",
       "  'demographic characteristics of venous thromboembolism patients ( n=549 ) a total of 182 patients had evidence of one risk factor , 126 had evidence of two risk factors , 70 had evidence of three risk factors and 31 had four or more risk factors recorded .',\n",
       "  'patients undergoing orthopedic surgery constituted 22% ( 33/152 ) of all surgical patients [ table 3 ] .',\n",
       "  'risk factors for venous thromboembolism based on a review of the available records , 157 patients had a single co - morbidity , 81 had two co - morbidities , 23 had three co - morbidities , and 16 had four or more co - morbidities .',\n",
       "  '( myocardial infarction , heart failure , chronic obstructive pulmonary disease , ventilator dependency , sepsis , or pneumonia ) [ table 4 ] .',\n",
       "  'co - morbidities in venous thromboembolism patients of the 476 patients with dvt , 2% ( 9 ) had upper extremity dvt , 97% ( 462 ) had lower extremity dvt and the site of dvt was not known in 5 patients .',\n",
       "  'a total of 31% ( 143/462 ) patients had dvt in the right limb , 54% ( 249/462 ) in the left limb and 9% ( 41/462 ) in both limbs ( site not known in 29 patients ) .',\n",
       "  'of the 462 patients with lower extremity dvt , 61% had proximal dvt , 13% had distal dvt , and 7% had proximal and distal dvt .',\n",
       "  'a total of 39% ( 215/549 ) patients were diagnosed with vte during their hospital stay , 54% ( 296/549 ) were admitted to hospital with a diagnosis of vte , and 7% ( 38/549 ) were diagnosed and continued to be managed in the outpatient department [ figure 2 ] .',\n",
       "  'place of detection of venous thromboembolism ( n = 549 ) duration of hospitalization after diagnosis of venous thromboembolism a smaller proportion of patients ( 15% ; 81/549 ) was diagnosed with vte during the postoperative period .',\n",
       "  'figure 3 shows the proportion of patients with vte at different time points during the postoperative period .',\n",
       "  'of those diagnosed beyond 6 weeks , 21% ( 3/14 ) had orthopedic surgery ( hip fracture surgery ) .',\n",
       "  'diagnosis of venous thromboembolism during the postoperative period ( n = 81 ) the most common ( 73% ) symptom was  swelling of the limb  among patients with vte [ table 6 ] .',\n",
       "  'symptoms in venous thromboembolism patients in merely 4% of all the patients , dvt was also confirmed by venography .',\n",
       "  'pe was confirmed by pulmonary angiography in 27% of all the patients [ table 7 ] .',\n",
       "  '. heparin ( low molecular weight heparin [ lmwh]/unfractionated heparin [ ufh ] ) alone , a combination of heparin ( lmwh / ufh ) and oral anticoagulant ( warfarin ) , and fondaparinux sodium alone were recommended to 82% ( 420/515 ) , 13% ( 66/515 ) , and 2% ( 12/515 ) patients , respectively as initial anticoagulation .',\n",
       "  'five percent ( 25/515 ) of patients were recommended lmwh alone , and 76% ( 393/515 ) were recommended either warfarin or acenocoumarol alone for long - term anticoagulation .',\n",
       "  'the median duration of initial anticoagulation was 5 days while that of long - term anticoagulation was 180 days ( 6 months ) .',\n",
       "  'anticoagulants were needed to be stopped because of bleeding in only 2% ( 9/515 ) patients .',\n",
       "  'clinical outcomes in patients diagnosed with venous thromboembolism during hospital stay clinical outcomes in patients admitted to hospital with a diagnosis of venous thromboembolism the annual incidence of acute dvt ( pe ) increased from 2006 to 2010 at all the three sites [ figure 4 ] .',\n",
       "  'however , a formal site - wise statistical analysis could not be performed to analyse trends in the incidence rates in acute dvt ( pe ) and pe alone as there were zero observations in some instances .',\n",
       "  'incidence of acute deep vein thrombosis ( with or without pulmonary embolism ) over a 5 years period ( 20062010 ) at three sites',\n",
       "  'demographic characteristics of venous thromboembolism patients ( n=549 ) a total of 182 patients had evidence of one risk factor , 126 had evidence of two risk factors , 70 had evidence of three risk factors and 31 had four or more risk factors recorded .',\n",
       "  'patients undergoing orthopedic surgery constituted 22% ( 33/152 ) of all surgical patients [ table 3 ] .',\n",
       "  'risk factors for venous thromboembolism based on a review of the available records , 157 patients had a single co - morbidity , 81 had two co - morbidities , 23 had three co - morbidities , and 16 had four or more co - morbidities .',\n",
       "  '( myocardial infarction , heart failure , chronic obstructive pulmonary disease , ventilator dependency , sepsis , or pneumonia ) [ table 4 ] .',\n",
       "  '2% ( 9 ) had upper extremity dvt , 97% ( 462 ) had lower extremity dvt and the site of dvt was not known in 5 patients .',\n",
       "  'a total of 31% ( 143/462 ) patients had dvt in the right limb , 54% ( 249/462 ) in the left limb and 9% ( 41/462 ) in both limbs ( site not known in 29 patients ) . of the 462 patients with lower extremity dvt',\n",
       "  ', 61% had proximal dvt , 13% had distal dvt , and 7% had proximal and distal dvt .',\n",
       "  'a total of 39% ( 215/549 ) patients were diagnosed with vte during their hospital stay , 54% ( 296/549 ) were admitted to hospital with a diagnosis of vte , and 7% ( 38/549 ) were diagnosed and continued to be managed in the outpatient department [ figure 2 ] .',\n",
       "  'place of detection of venous thromboembolism ( n = 549 ) duration of hospitalization after diagnosis of venous thromboembolism a smaller proportion of patients ( 15% ; 81/549 ) was diagnosed with vte during the postoperative period .',\n",
       "  'figure 3 shows the proportion of patients with vte at different time points during the postoperative period . of those diagnosed beyond 6 weeks',\n",
       "  'diagnosis of venous thromboembolism during the postoperative period ( n = 81 ) the most common ( 73% ) symptom was  swelling of the limb  among patients with vte [ table 6 ] .',\n",
       "  'a total of 182 patients had evidence of one risk factor , 126 had evidence of two risk factors , 70 had evidence of three risk factors and 31 had four or more risk factors recorded .',\n",
       "  'patients undergoing orthopedic surgery constituted 22% ( 33/152 ) of all surgical patients [ table 3 ] .',\n",
       "  'based on a review of the available records , 157 patients had a single co - morbidity , 81 had two co - morbidities , 23 had three co - morbidities , and 16 had four or more co - morbidities .',\n",
       "  '( myocardial infarction , heart failure , chronic obstructive pulmonary disease , ventilator dependency , sepsis , or pneumonia ) [ table 4 ] .',\n",
       "  'of the 476 patients with dvt , 2% ( 9 ) had upper extremity dvt , 97% ( 462 ) had lower extremity dvt and the site of dvt was not known in 5 patients .',\n",
       "  'a total of 31% ( 143/462 ) patients had dvt in the right limb , 54% ( 249/462 ) in the left limb and 9% ( 41/462 ) in both limbs ( site not known in 29 patients ) .',\n",
       "  'of the 462 patients with lower extremity dvt , 61% had proximal dvt , 13% had distal dvt , and 7% had proximal and distal dvt .',\n",
       "  'a total of 39% ( 215/549 ) patients were diagnosed with vte during their hospital stay , 54% ( 296/549 ) were admitted to hospital with a diagnosis of vte , and 7% ( 38/549 ) were diagnosed and continued to be managed in the outpatient department [ figure 2 ] .',\n",
       "  'place of detection of venous thromboembolism ( n = 549 ) duration of hospitalization after diagnosis of venous thromboembolism a smaller proportion of patients ( 15% ; 81/549 ) was diagnosed with vte during the postoperative period .',\n",
       "  'figure 3 shows the proportion of patients with vte at different time points during the postoperative period . of those diagnosed beyond 6 weeks',\n",
       "  'diagnosis of venous thromboembolism during the postoperative period ( n = 81 ) the most common ( 73% ) symptom was  swelling of the limb  among patients with vte [ table 6 ]',\n",
       "  'pe was confirmed by pulmonary angiography in 27% of all the patients [ table 7 ] .',\n",
       "  'heparin ( low molecular weight heparin [ lmwh]/unfractionated heparin [ ufh ] ) alone , a combination of heparin ( lmwh / ufh ) and oral anticoagulant ( warfarin ) , and fondaparinux sodium alone were recommended to 82% ( 420/515 ) , 13% ( 66/515 ) , and 2% ( 12/515 ) patients , respectively as initial anticoagulation .',\n",
       "  'five percent ( 25/515 ) of patients were recommended lmwh alone , and 76% ( 393/515 ) were recommended either warfarin or acenocoumarol alone for long - term anticoagulation .',\n",
       "  'the median duration of initial anticoagulation was 5 days while that of long - term anticoagulation was 180 days ( 6 months ) .',\n",
       "  'anticoagulants were needed to be stopped because of bleeding in only 2% ( 9/515 ) patients .',\n",
       "  'clinical outcomes in patients diagnosed with venous thromboembolism during hospital stay clinical outcomes in patients admitted to hospital with a diagnosis of venous thromboembolism the annual incidence of acute dvt ( pe ) increased from 2006 to 2010 at all the three sites [ figure 4 ] .',\n",
       "  'however , a formal site - wise statistical analysis could not be performed to analyse trends in the incidence rates in acute dvt ( pe ) and pe alone as there were zero observations in some instances .',\n",
       "  'incidence of acute deep vein thrombosis ( with or without pulmonary embolism ) over a 5 years period ( 20062010 ) at three sites',\n",
       "  'pe was confirmed by pulmonary angiography in 27% of all the patients [ table 7 ] .',\n",
       "  'heparin ( low molecular weight heparin [ lmwh]/unfractionated heparin [ ufh ] ) alone , a combination of heparin ( lmwh / ufh ) and oral anticoagulant ( warfarin ) , and fondaparinux sodium alone were recommended to 82% ( 420/515 ) , 13% ( 66/515 ) , and 2% ( 12/515 ) patients , respectively as initial anticoagulation .',\n",
       "  'five percent ( 25/515 ) of patients were recommended lmwh alone , and 76% ( 393/515 ) were recommended either warfarin or acenocoumarol alone for long - term anticoagulation .',\n",
       "  'the median duration of initial anticoagulation was 5 days while that of long - term anticoagulation was 180 days ( 6 months ) .',\n",
       "  'anticoagulants were needed to be stopped because of bleeding in only 2% ( 9/515 ) patients .',\n",
       "  'clinical outcomes in patients diagnosed with venous thromboembolism during hospital stay clinical outcomes in patients admitted to hospital with a diagnosis of venous thromboembolism',\n",
       "  'the annual incidence of acute dvt ( pe ) increased from 2006 to 2010 at all the three sites [ figure 4 ] .',\n",
       "  'however , a formal site - wise statistical analysis could not be performed to analyse trends in the incidence rates in acute dvt ( pe ) and pe alone as there were zero observations in some instances .',\n",
       "  'incidence of acute deep vein thrombosis ( with or without pulmonary embolism ) over a 5 years period ( 20062010 ) at three sites',\n",
       "  'to our knowledge , this is the first multicenter , retrospective registry in india involving patients with vte that reflect real - world clinical practice . in contrast with the western data in which vte is predominantly a disease of older age , 44% patients in our study were between 40 and 59 years of age while 34% were below 40 years , particularly those with pe . in a study from north india ,',\n",
       "  'men constituted 70% of our registry , more than those reported from vellore registry ( 48% ) , but similar to those reported in the endorse ( epidemiologic international day for the evaluation of patients at risk for vte in the acute hospital care setting ) study ( 69% ) .',\n",
       "  'one of the reasons for this could be significantly high levels of homocysteine ( thrombophilia marker ) in males as compared to females as reported in an indian study .',\n",
       "  'fewer indian women use oral contraceptives and postmenopausal hormone replacement therapy , which are known to be risk factors for thrombosis .',\n",
       "  'this is supported by the fact that only 1% of women in this registry reported the use of oral contraceptives , and none reported use of hormonal replacement therapy .',\n",
       "  'a total of 28% of the overall referrals were from cardiologists . the majority ( 82% ) of the referrals were from medical rather than surgical ( 15% ) specialties as against a referral rate of 93% from surgeons at vellore .',\n",
       "  'our finding complements that from the endorse study in which 55% of the medical patients at risk of vte had cardiovascular disease . majority ( 53% ) of patients in our study had co - morbid cardiovascular disease including diabetes mellitus ; it is possible that these patients visited a cardiologist for their cardiovascular ailment ( s ) and were then referred by the cardiologist to vascular disease specialist ( investigator ) .',\n",
       "  'most ( 89% ) of these patients had swelling of the ( lower ) limb .',\n",
       "  'it is possible that these patients may not have felt the need to visit a specialist for a symptom like  swelling of limb ,  instead visited their family physician .',\n",
       "  'it is very encouraging to know that family physicians suspected dvt in these situations and referred the patient to a specialist .',\n",
       "  'patients with a history of vte are about 8 times more likely to develop a new episode during a subsequent high - risk period compared with patients without a history of dvt or pe .',\n",
       "  'prior history of dvt was the most ( 34% ) common risk factor in patients who had only dvt , whereas past history of pe , trauma , and immobilization for more than 3 days were the most common risk factors in patients who had only pe .',\n",
       "  'our results ( major lower limb surgery as a risk factor in 3% patients ) appear to be consistent with those reported in the endorse study , which reported dvt in 4.4% patients undergoing major lower limb surgery .',\n",
       "  'other studies from india have reported a dvt incidence rate ranging from 8% to 20% in major lower limb surgery .',\n",
       "  'however , in our study , only 7% of patients had malignancy as a predisposing factor . among the malignancies , genitourinary cancer had the highest incidence ( 45% ) .',\n",
       "  'hypertension ( 25% ) was the most common co - morbidity followed by diabetes mellitus ( 19% ) in this patient population .',\n",
       "  'in addition , obesity ( 11% ) was a common risk factor in dvt complicated by pe .',\n",
       "  'our findings support an asian ( korean ) study that demonstrated prevalence of the metabolic syndrome in 48% patients with vte .',\n",
       "  'co - morbid neurological disease ( other than stroke ) and ventilator dependency were also commonly found in patients with dvt ( 10% ) and pe ( 11% ) respectively .',\n",
       "  'both these conditions immobilize patients for prolonged periods of time , predisposing them to vte .',\n",
       "  'venography and pulmonary angiography are the gold standard for diagnosis of dvt and pe respectively . in our study',\n",
       "  ', venography was used in just 4% patients and pulmonary angiography in less than one - third of the patients .',\n",
       "  'perhaps the relatively high cost of these tests and limited availability of such procedures may be the limiting factors .',\n",
       "  'overall , most ( 93% ) patients were managed as inpatients ( 39% diagnosed with vte during hospital stay and 54% admitted to hospital with a diagnosis of vte ) .',\n",
       "  'a mean duration of hospitalization of 79 days after diagnosis of vte is supported by published data . in selected low - risk patients , outpatient treatment of dvt and pe may be considered .',\n",
       "  'this approach was observed in a small proportion ( 7% ) of patients who were managed on an outpatient basis , nearly all ( 97% ) of whom had only dvt .',\n",
       "  'the reported prevalence of postsurgical vte in our study ( 15% ) was half of that ( 30% ) reported in vellore registry .',\n",
       "  'this could be explained by higher referral rate from surgeons at vellore compared to that of our sites .',\n",
       "  'most ( 40% ; 32/81 ) dvt cases were diagnosed between 2 and 6 postoperative weeks , but pe in most cases ( 70% ; 7/10 ) was diagnosed during the first postoperative week .',\n",
       "  'we notice that acute dvt complicated by pe was less ( 6% ; 7/124 ) frequently diagnosed during the postoperative period as against 18% ( 64/352 ) and 14% ( 10/73 ) of acute dvt alone and pe alone , respectively .',\n",
       "  'the use and duration of anticoagulants in our registry appears to be consistent with the american college of chest physicians treatment guidelines , which recommend at least 5 days of initial anticoagulation with parenteral anticoagulation ( lmwh , fondaparinux , intravenous ufh , or subcutaneous ufh ) and at least 3 months of long - term anticoagulation treatment with vitamin k antagonist .',\n",
       "  \"bleeding is the most serious complication of anticoagulation treatment and is a major concern for clinicians particularly as the patient 's age advances . in this registry ,\",\n",
       "  'anticoagulant treatment was needed to be stopped because of bleeding in only 2% of the study population .',\n",
       "  'the prospective reite registry has reported a rate of 3% for major / fatal bleeds .',\n",
       "  'thus , the fear of bleeding complications , which decreases the use of anticoagulant treatment , appears to be minimal .',\n",
       "  'dvt complicated by pe ( 60% ) and pe alone ( 75% ) were more frequently shifted to intensive care unit than those who had dvt alone ( 25% ) . similar to published data in which hospital readmission rate for vte was 5% for primary and 14% for secondary diagnosis , we report a hospital readmission rate of 6% ; however we do not know the cause for readmission .',\n",
       "  'the death rate was 7% among those diagnosed with vte during hospital stay as against a rate of 1% among those who were hospitalized with a diagnosis of vte .',\n",
       "  'over 90% of patients treated on an outpatient basis obtained symptomatic relief with treatment . in our study , the hospital discharge rate ( 97% ) was more than triple and death rate was a quarter of that reported by pandey et al .',\n",
       "  '( hospital discharge rate 31% and death rate 16% ) at a university hospital in delhi .',\n",
       "  'our data show a significant increase in acute dvt ( pe ) from 2006 to 2010 .',\n",
       "  'this can be explained by the increased awareness of vte in india as well as the advent of better diagnostic modalities , such as duplex ultrasonography becoming more readily available and accepted .',\n",
       "  'although there was no significant change in the number of pe cases from 2006 to 2010 , the burden of pe is almost double ( 13% of all vte ) of 7% , rate reported at christian medical college , vellore during a 10-year period from 1996 to 2005 .',\n",
       "  'our finding is consistent with a study from north india that reported a 16% incidence of pe in adult medical autopsies .',\n",
       "  'this study has the expected limitations of any retrospective review including the availability of complete records for all patients , although a robust review of the data on medical charts was conducted .',\n",
       "  'controlling for bias and confounders is difficult as there is no randomization and no blinding .',\n",
       "  'follow - up data of patients after hospital discharge were not available . in cases of death ,',\n",
       "  'further , the clinic charts reviewed in this study included a mix of those from vascular surgery and hematology departments , limiting the generalizability of the study results . despite these limitations ,',\n",
       "  'this study provides large amount of useful information in a short span of time on patient characteristics , clinical outcomes , management strategies , and temporal trends in vte , based on  real world ',\n",
       "  'data that reflect actual day - to - day clinical practice over a period of 5 years across three sites in india .',\n",
       "  'we believe that this information will serve as a guide in the optimal implementation of vte prophylaxis and treatment , to improve patient outcomes and to decrease the occurrence of vte in india .',\n",
       "  'real world data reflecting actual day - to - day clinical practice in vte over a period of 5 years across three sites in india showed that vte is not uncommon in indian patients and that acute dvt was responsible for the substantial burden of vte .',\n",
       "  'we believe that this information will serve as a guide in the optimal implementation of vte prophylaxis and treatment , to improve patient outcomes and to decrease the occurrence of vte in india .',\n",
       "  'liesel c. dsilva is and dr . sadhna j. joglekar was full - time employee of glaxosmithkline pharmaceuticals limited .'],\n",
       " 'sorted_indices': [107,\n",
       "  68,\n",
       "  38,\n",
       "  76,\n",
       "  120,\n",
       "  39,\n",
       "  69,\n",
       "  77,\n",
       "  31,\n",
       "  63,\n",
       "  52,\n",
       "  114,\n",
       "  116,\n",
       "  72,\n",
       "  42,\n",
       "  134,\n",
       "  36,\n",
       "  104,\n",
       "  28,\n",
       "  80,\n",
       "  113,\n",
       "  108,\n",
       "  0,\n",
       "  60,\n",
       "  9,\n",
       "  81,\n",
       "  64,\n",
       "  53,\n",
       "  32,\n",
       "  11,\n",
       "  71,\n",
       "  41,\n",
       "  79,\n",
       "  20,\n",
       "  8,\n",
       "  21,\n",
       "  100,\n",
       "  119,\n",
       "  49,\n",
       "  95,\n",
       "  66,\n",
       "  55,\n",
       "  35,\n",
       "  123,\n",
       "  30,\n",
       "  62,\n",
       "  5,\n",
       "  85,\n",
       "  94,\n",
       "  50,\n",
       "  34,\n",
       "  74,\n",
       "  83,\n",
       "  44,\n",
       "  37,\n",
       "  75,\n",
       "  67,\n",
       "  16,\n",
       "  135,\n",
       "  133,\n",
       "  102,\n",
       "  54,\n",
       "  65,\n",
       "  2,\n",
       "  23,\n",
       "  112,\n",
       "  110,\n",
       "  97,\n",
       "  99,\n",
       "  93,\n",
       "  7,\n",
       "  118,\n",
       "  1,\n",
       "  109,\n",
       "  84,\n",
       "  15,\n",
       "  125,\n",
       "  73,\n",
       "  43,\n",
       "  82,\n",
       "  105,\n",
       "  96,\n",
       "  115,\n",
       "  22,\n",
       "  90,\n",
       "  103,\n",
       "  51,\n",
       "  33,\n",
       "  3,\n",
       "  25,\n",
       "  57,\n",
       "  46,\n",
       "  29,\n",
       "  61,\n",
       "  129,\n",
       "  70,\n",
       "  78,\n",
       "  40,\n",
       "  121,\n",
       "  101,\n",
       "  131,\n",
       "  19,\n",
       "  12,\n",
       "  122,\n",
       "  4,\n",
       "  6,\n",
       "  48,\n",
       "  59,\n",
       "  27,\n",
       "  98,\n",
       "  87,\n",
       "  124,\n",
       "  14,\n",
       "  117,\n",
       "  91,\n",
       "  86,\n",
       "  45,\n",
       "  24,\n",
       "  47,\n",
       "  26,\n",
       "  126,\n",
       "  130,\n",
       "  127,\n",
       "  92,\n",
       "  10,\n",
       "  89,\n",
       "  58,\n",
       "  88,\n",
       "  56,\n",
       "  136,\n",
       "  132,\n",
       "  111,\n",
       "  128,\n",
       "  18,\n",
       "  13,\n",
       "  17,\n",
       "  106]}"
      ]
     },
     "execution_count": 13,
     "metadata": {},
     "output_type": "execute_result"
    }
   ],
   "source": [
    "#Visualize an example\n",
    "validation_corpus[0][1]"
   ]
  },
  {
   "cell_type": "code",
   "execution_count": 6,
   "metadata": {},
   "outputs": [
    {
     "data": {
      "image/png": "[encoded data removed]",
      "text/plain": [
       "<Figure size 1728x720 with 3 Axes>"
      ]
     },
     "metadata": {
      "needs_background": "light"
     },
     "output_type": "display_data"
    }
   ],
   "source": [
    "import seaborn as sns\n",
    "import matplotlib.pyplot as plt\n",
    "\n",
    "# Data for ROUGE-1, ROUGE-2, and ROUGE-L\n",
    "rouge1_memsum = [0.4672, 0.4672, 0.4734, 0.4734, 0.4773, 0.4780, 0.4780, 0.4801, 0.4802, 0.4799, 0.4811, 0.4810, 0.4821, 0.4824, 0.4819]\n",
    "rouge2_memsum = [0.2126, 0.2125, 0.2167, 0.2166, 0.2191, 0.2199, 0.2198, 0.2217, 0.2218, 0.2213, 0.2224, 0.2230, 0.2236, 0.2236, 0.2233]\n",
    "rougeL_memsum = [0.4260, 0.4260, 0.4309, 0.4309, 0.4349, 0.4345, 0.4345, 0.4370, 0.4371, 0.4361, 0.4377, 0.4376, 0.4390, 0.4384, 0.4374]\n",
    "\n",
    "rouge1_transformer = [0.4727, 0.4759, 0.4800, 0.4800, 0.4786, 0.4787, 0.4807, 0.4813, 0.4794, 0.4831, 0.4829, 0.4834]\n",
    "rouge2_transformer = [0.2177, 0.2219, 0.2246, 0.2246, 0.2245, 0.2245, 0.2241, 0.2258, 0.2245, 0.2271, 0.2266, 0.2262]\n",
    "rougeL_transformer = [0.4332, 0.4361, 0.4396, 0.4395, 0.4386, 0.4387, 0.4401, 0.4414, 0.4400, 0.4427, 0.4421, 0.4417]\n",
    "\n",
    "rouge1_transformer_cross = [0.4627, 0.4687, 0.4619, 0.4707, 0.4455, 0.4405, 0.4447, 0.4448, 0.4403, 0.4376, 0.4354, 0.4379, 0.4367]\n",
    "rouge2_transformer_cross = [0.2069, 0.2110, 0.2082, 0.2136, 0.1936, 0.192, 0.194, 0.1932, 0.1909, 0.1880, 0.1865, 0.1885]\n",
    "rougeL_transformer_cross = [0.4233, 0.4292, 0.4204, 0.4306, 0.4077, 0.4002, 0.4042, 0.4054, 0.3997, 0.3970, 0.3934, 0.3967, 0.3952]\n",
    "\n",
    "fig, axes = plt.subplots(nrows=1, ncols=3, figsize=(24, 10))  # Adjust the figsize as needed\n",
    "\n",
    "# ROUGE-1\n",
    "sns.lineplot(data=[rouge1_memsum, rouge1_transformer, rouge1_transformer_cross], ax=axes[0])\n",
    "axes[0].set_title(\"ROUGE-1\")\n",
    "axes[0].legend(['MS Vanilla', 'MS Transformer', 'MS Transformer+ Cross Attn'])\n",
    "\n",
    "# ROUGE-2\n",
    "sns.lineplot(data=[rouge2_memsum, rouge2_transformer, rouge2_transformer_cross], ax=axes[1])\n",
    "axes[1].set_title(\"ROUGE-2\")\n",
    "axes[1].legend(['MS Vanilla', 'MS Transformer', 'MS Transformer+ Cross Attn'])\n",
    "\n",
    "# ROUGE-L\n",
    "sns.lineplot(data=[rougeL_memsum, rougeL_transformer, rougeL_transformer_cross], ax=axes[2])\n",
    "axes[2].set_title(\"ROUGE-L\")\n",
    "axes[2].legend(['MS Vanilla', 'MS Transformer', 'MS Transformer+ Cross Attn'])\n",
    "\n",
    "# Adjust layout\n",
    "plt.tight_layout()\n",
    "plt.savefig(\"rouge_results.pdf\")\n",
    "# Display the plot\n",
    "plt.show()\n"
   ]
  }
 ],
 "metadata": {
  "kernelspec": {
   "display_name": "base",
   "language": "python",
   "name": "python3"
  },
  "language_info": {
   "codemirror_mode": {
    "name": "ipython",
    "version": 3
   },
   "file_extension": ".py",
   "mimetype": "text/x-python",
   "name": "python",
   "nbconvert_exporter": "python",
   "pygments_lexer": "ipython3",
   "version": "3.9.15"
  },
  "orig_nbformat": 4
 },
 "nbformat": 4,
 "nbformat_minor": 2
}
