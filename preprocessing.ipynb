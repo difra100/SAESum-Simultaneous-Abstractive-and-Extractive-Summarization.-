{
 "cells": [
  {
   "attachments": {},
   "cell_type": "markdown",
   "metadata": {},
   "source": [
    "## **PUBMED Dataset Preprocessing**"
   ]
  },
  {
   "attachments": {},
   "cell_type": "markdown",
   "metadata": {},
   "source": [
    "Cleaning the PubMed Dataset"
   ]
  },
  {
   "cell_type": "code",
   "execution_count": null,
   "metadata": {},
   "outputs": [],
   "source": [
    "from src.training_utils import *\n",
    "import transformers\n",
    "from datasets import load_dataset\n",
    "from transformers import AutoTokenizer, AutoModelForSeq2SeqLM\n",
    "\n",
    "print(transformers.__version__)"
   ]
  },
  {
   "attachments": {},
   "cell_type": "markdown",
   "metadata": {},
   "source": [
    "Load the Pubmed dataset which was downloaded to the local directory "
   ]
  },
  {
   "cell_type": "code",
   "execution_count": null,
   "metadata": {},
   "outputs": [],
   "source": [
    "pubmed_dataset = load_dataset(\"ccdv/pubmed-summarization\") # Model loaded from huggingface\n",
    "print(pubmed_dataset)"
   ]
  },
  {
   "attachments": {},
   "cell_type": "markdown",
   "metadata": {},
   "source": [
    "Load and Visualize the Dataset, cleaning two examples in the validation"
   ]
  },
  {
   "cell_type": "code",
   "execution_count": null,
   "metadata": {},
   "outputs": [],
   "source": [
    "import json\n",
    "from tqdm import tqdm\n",
    "\n",
    "def load_corpus(fname, is_training):\n",
    "    corpus = []\n",
    "    with open(fname, \"r\") as f:\n",
    "        lines = f.readlines()  # Read all lines into a list\n",
    "        for i, line in tqdm(enumerate(lines), total=len(lines)):\n",
    "            data = json.loads(line)\n",
    "            if len(data[\"text\"]) == 0 or len(data[\"summary\"]) == 0:\n",
    "                print(i)\n",
    "                continue\n",
    "            if is_training:\n",
    "                if len(data[\"indices\"]) == 0 or len(data[\"score\"]) == 0:\n",
    "                    continue\n",
    "\n",
    "            corpus.append(data)\n",
    "    return corpus\n",
    "\n",
    "val = load_corpus(\"src/data/PubMed/test_PUBMED.jsonl\", False)\n",
    "train = load_corpus(\"src/data/PubMed/train_PUBMED_labelled.jsonl\", True)\n"
   ]
  },
  {
   "cell_type": "markdown",
   "metadata": {},
   "source": [
    "## **Clean Dataset Class**"
   ]
  },
  {
   "cell_type": "code",
   "execution_count": null,
   "metadata": {},
   "outputs": [],
   "source": [
    "from torch.utils.data import Dataset\n",
    "\n",
    "class Clean_Dataset(Dataset):\n",
    "    # This is used to clean the noisy sample from PubMed train\n",
    "    def __init__(self, abs_dataset, ext_dataset, val = False):\n",
    "        self.abs_dataset = abs_dataset\n",
    "        self.ext_dataset = ext_dataset\n",
    "        self.abs_dataset, self.ext_dataset = self.preprocess(val)\n",
    "\n",
    "\n",
    "    def __len__(self):\n",
    "        return len(self.ext_dataset)\n",
    "    \n",
    "    def __getitem__(self, idx):\n",
    "\n",
    "        return self.abs_dataset[idx], self.ext_dataset[idx]\n",
    "    \n",
    "    def compare(self,s1,s2, red = True):\n",
    "        distance = (s1[:len(s2)+10].strip()).startswith(s2.strip())#Levenshtein.distance(s1[:100], s2[:100])\n",
    "        if not distance:\n",
    "            if red:\n",
    "                print(f\"\\nEXT: \\n\", s2)\n",
    "                print(f\"\\nABS: \\n\", s1[:len(s2)+10])\n",
    "            return False\n",
    "        else:\n",
    "            return True\n",
    "            \n",
    "    \n",
    "    def preprocess(self, val = False):\n",
    "        new_dataset_abs = []\n",
    "        new_dataset = []\n",
    "        new_ext = []\n",
    "        count = 0\n",
    "        for idx in tqdm(range(len(self.abs_dataset))):\n",
    "\n",
    "            if self.abs_dataset[idx]['article'] != \"\":\n",
    "                if not val:\n",
    "                    new_dataset_abs.append({\"article\": self.abs_dataset[idx]['article'], 'abstract': self.abs_dataset[idx]['abstract']})\n",
    "                elif val and idx not in [4923, 2320]: # Empty articles\n",
    "                    new_dataset_abs.append({\"article\": self.abs_dataset[idx]['article'], 'abstract': self.abs_dataset[idx]['abstract']})\n",
    "\n",
    "            else:\n",
    "                count+=1\n",
    "        if not val:\n",
    "            for idx in range(len(self.ext_dataset)):\n",
    "                if self.compare(new_dataset_abs[idx]['article'],self.ext_dataset[idx]['text'][0]):\n",
    "                    new_dataset.append({\"article\": new_dataset_abs[idx]['article'], 'abstract': new_dataset_abs[idx]['abstract']})\n",
    "                    new_ext.append(self.ext_dataset[idx])\n",
    "                    continue\n",
    "                    \n",
    "                else:\n",
    "                    count+=1\n",
    "                    for idx2 in range(1, len(new_dataset_abs[idx:])):\n",
    "                        if self.compare(new_dataset_abs[idx2+idx]['article'],self.ext_dataset[idx]['text'][0], red = False):\n",
    "                            new_dataset.append({\"article\": new_dataset_abs[idx2+idx]['article'], 'abstract': new_dataset_abs[idx2+idx]['abstract']})\n",
    "                            new_ext.append(self.ext_dataset[idx])\n",
    "                            break\n",
    "        else:\n",
    "            new_dataset = new_dataset_abs\n",
    "            new_ext = self.ext_dataset\n",
    "\n",
    "        return new_dataset, new_ext\n",
    "        "
   ]
  },
  {
   "cell_type": "markdown",
   "metadata": {},
   "source": [
    "Run only once: Synchronize the abstractive and extractive datasets, and get rid of the missing texts."
   ]
  },
  {
   "cell_type": "code",
   "execution_count": null,
   "metadata": {},
   "outputs": [],
   "source": [
    "train_new = Clean_Dataset(pubmed_dataset['train'], train, val = False)\n",
    "val_new = Clean_Dataset(pubmed_dataset['test'], val, val = True)\n",
    "print(len(train_new))\n",
    "print(len(val_new))"
   ]
  },
  {
   "cell_type": "code",
   "execution_count": null,
   "metadata": {},
   "outputs": [],
   "source": [
    "serialized_data_val = [sample for sample in val_new]\n",
    "serialized_data_train = [sample for sample in val_new]"
   ]
  },
  {
   "cell_type": "markdown",
   "metadata": {},
   "source": [
    "### Save the data"
   ]
  },
  {
   "cell_type": "code",
   "execution_count": null,
   "metadata": {},
   "outputs": [],
   "source": [
    "with open(\"src/data/PubMed/Train_ExtAbs_PUBMED.json\", \"w\") as f:\n",
    "   json.dump(serialized_data_train, f)\n",
    "\n",
    "with open(\"src/data/PubMed/Test_ExtAbs_PUBMED.json\", \"w\") as f:\n",
    "   json.dump(serialized_data_val, f)"
   ]
  },
  {
   "cell_type": "markdown",
   "metadata": {},
   "source": [
    "### Load the saved dataset by opening the .json file"
   ]
  },
  {
   "cell_type": "code",
   "execution_count": null,
   "metadata": {},
   "outputs": [],
   "source": [
    "with open(\"src/data/PubMed/Train_ExtAbs_PUBMED.json\") as f:\n",
    "        training_corpus = json.load(f)"
   ]
  }
 ],
 "metadata": {
  "kernelspec": {
   "display_name": "base",
   "language": "python",
   "name": "python3"
  },
  "language_info": {
   "codemirror_mode": {
    "name": "ipython",
    "version": 3
   },
   "file_extension": ".py",
   "mimetype": "text/x-python",
   "name": "python",
   "nbconvert_exporter": "python",
   "pygments_lexer": "ipython3",
   "version": "3.9.15"
  },
  "orig_nbformat": 4
 },
 "nbformat": 4,
 "nbformat_minor": 2
}
